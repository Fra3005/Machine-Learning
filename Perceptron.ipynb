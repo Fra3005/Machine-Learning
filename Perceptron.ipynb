{
  "nbformat": 4,
  "nbformat_minor": 0,
  "metadata": {
    "colab": {
      "name": "Perceptron.ipynb",
      "provenance": []
    },
    "kernelspec": {
      "name": "python3",
      "display_name": "Python 3"
    },
    "language_info": {
      "name": "python"
    }
  },
  "cells": [
    {
      "cell_type": "code",
      "execution_count": 26,
      "metadata": {
        "id": "xgdsgLCDrly9"
      },
      "outputs": [],
      "source": [
        "from sklearn import datasets\n",
        "import numpy as np\n",
        "from sklearn.model_selection import train_test_split\n",
        "from sklearn.preprocessing import StandardScaler\n",
        "from sklearn.linear_model import Perceptron\n",
        "from sklearn.metrics import accuracy_score"
      ]
    },
    {
      "cell_type": "code",
      "source": [
        "dataset = datasets.load_iris() #load iris dataset\n",
        "X = dataset.data[:, [2,3]] #take from begin only second and third columns of data\n",
        "Y = dataset.target\n",
        "\n",
        "#random state says that the dataset is shuffled first\n",
        "#stratify says that we have the same proportion in term of labels\n",
        "X_train, x_test, Y_train, y_test = train_test_split(X, Y, test_size=0.3, random_state=1, stratify=Y)\n",
        "\n",
        "#create an object to do a standardization\n",
        "scaler = StandardScaler()\n",
        "\n",
        "#fit the train data to take the value of STANDARD DEVIATION and MEAN\n",
        "scaler.fit(X_train)\n",
        "#transform the test and traind data taking into account the STANDARD DEVIATION and the MEAN\n",
        "X_trainSc = scaler.transform(X_train)\n",
        "X_testSc = scaler.transform(x_test)\n",
        "\n",
        "#Create Perceptron object, eta rapresents the learning rate\n",
        "ppn = Perceptron(eta0=0.01, random_state=1)\n",
        "ppn.fit(X_trainSc, Y_train)\n",
        "\n",
        "y_pred = ppn.predict(X_testSc)\n",
        "print('Misclassified examples: %d' %(y_test != y_pred).sum())\n",
        "\n",
        "print(\"Accuracy: %.3f\" % accuracy_score(y_test, y_pred))\n"
      ],
      "metadata": {
        "colab": {
          "base_uri": "https://localhost:8080/"
        },
        "id": "et_AuAEOr4mW",
        "outputId": "989a6322-5b66-4757-ca0d-19b8e00ddf9b"
      },
      "execution_count": 29,
      "outputs": [
        {
          "output_type": "stream",
          "name": "stdout",
          "text": [
            "Misclassified examples: 2\n",
            "Accuracy: 0.956\n"
          ]
        }
      ]
    }
  ]
}