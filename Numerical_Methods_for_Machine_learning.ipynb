{
  "nbformat": 4,
  "nbformat_minor": 0,
  "metadata": {
    "colab": {
      "provenance": []
    },
    "kernelspec": {
      "name": "python3",
      "display_name": "Python 3"
    },
    "language_info": {
      "name": "python"
    }
  },
  "cells": [
    {
      "cell_type": "markdown",
      "source": [
        "\n",
        "\n",
        "#Exercise 1\n",
        "\n"
      ],
      "metadata": {
        "id": "WEGgLEMtQ461"
      }
    },
    {
      "cell_type": "code",
      "execution_count": 32,
      "metadata": {
        "colab": {
          "base_uri": "https://localhost:8080/"
        },
        "id": "-n2D33fFQgz2",
        "outputId": "af5c2671-5bd3-4f1a-b4ba-632c06333c03"
      },
      "outputs": [
        {
          "output_type": "stream",
          "name": "stdout",
          "text": [
            "Populating the interactive namespace from numpy and matplotlib\n",
            "      fixed acidity  volatile acidity  citric acid  residual sugar  chlorides  \\\n",
            "0               7.4             0.700         0.00             1.9      0.076   \n",
            "1               7.8             0.880         0.00             2.6      0.098   \n",
            "2               7.8             0.760         0.04             2.3      0.092   \n",
            "3              11.2             0.280         0.56             1.9      0.075   \n",
            "4               7.4             0.700         0.00             1.9      0.076   \n",
            "...             ...               ...          ...             ...        ...   \n",
            "1594            6.2             0.600         0.08             2.0      0.090   \n",
            "1595            5.9             0.550         0.10             2.2      0.062   \n",
            "1596            6.3             0.510         0.13             2.3      0.076   \n",
            "1597            5.9             0.645         0.12             2.0      0.075   \n",
            "1598            6.0             0.310         0.47             3.6      0.067   \n",
            "\n",
            "      free sulfur dioxide  total sulfur dioxide  density    pH  sulphates  \\\n",
            "0                    11.0                  34.0  0.99780  3.51       0.56   \n",
            "1                    25.0                  67.0  0.99680  3.20       0.68   \n",
            "2                    15.0                  54.0  0.99700  3.26       0.65   \n",
            "3                    17.0                  60.0  0.99800  3.16       0.58   \n",
            "4                    11.0                  34.0  0.99780  3.51       0.56   \n",
            "...                   ...                   ...      ...   ...        ...   \n",
            "1594                 32.0                  44.0  0.99490  3.45       0.58   \n",
            "1595                 39.0                  51.0  0.99512  3.52       0.76   \n",
            "1596                 29.0                  40.0  0.99574  3.42       0.75   \n",
            "1597                 32.0                  44.0  0.99547  3.57       0.71   \n",
            "1598                 18.0                  42.0  0.99549  3.39       0.66   \n",
            "\n",
            "      alcohol  quality  \n",
            "0         9.4        5  \n",
            "1         9.8        5  \n",
            "2         9.8        5  \n",
            "3         9.8        6  \n",
            "4         9.4        5  \n",
            "...       ...      ...  \n",
            "1594     10.5        5  \n",
            "1595     11.2        6  \n",
            "1596     11.0        6  \n",
            "1597     10.2        5  \n",
            "1598     11.0        6  \n",
            "\n",
            "[1599 rows x 12 columns]\n"
          ]
        },
        {
          "output_type": "stream",
          "name": "stderr",
          "text": [
            "/usr/local/lib/python3.10/dist-packages/IPython/core/magics/pylab.py:159: UserWarning: pylab import has clobbered these variables: ['qr', 'svd']\n",
            "`%matplotlib` prevents importing * from pylab and numpy\n",
            "  warn(\"pylab import has clobbered these variables: %s\"  % clobbered +\n"
          ]
        }
      ],
      "source": [
        "%pylab inline\n",
        "import numpy as np\n",
        "import pandas as pd\n",
        "\n",
        "pd.options.display.max_rows = 10\n",
        "datay = pd.read_csv('winequality-red.csv',sep=\";\")\n",
        "\n",
        "print(datay)"
      ]
    },
    {
      "cell_type": "code",
      "source": [
        "print(len(datay))\n",
        "\n",
        "#names of the columns\n",
        "datay.columns"
      ],
      "metadata": {
        "colab": {
          "base_uri": "https://localhost:8080/"
        },
        "id": "zQpLgah0RWwA",
        "outputId": "f4170915-7898-48e4-f8d9-f1173e1b0857"
      },
      "execution_count": 5,
      "outputs": [
        {
          "output_type": "stream",
          "name": "stdout",
          "text": [
            "1599\n"
          ]
        },
        {
          "output_type": "execute_result",
          "data": {
            "text/plain": [
              "Index(['fixed acidity', 'volatile acidity', 'citric acid', 'residual sugar',\n",
              "       'chlorides', 'free sulfur dioxide', 'total sulfur dioxide', 'density',\n",
              "       'pH', 'sulphates', 'alcohol', 'quality'],\n",
              "      dtype='object')"
            ]
          },
          "metadata": {},
          "execution_count": 5
        }
      ]
    },
    {
      "cell_type": "code",
      "source": [
        "Aall=datay.to_numpy() # Matrix containing all the information, the last column stores y values.\n",
        "print(Aall.shape)"
      ],
      "metadata": {
        "colab": {
          "base_uri": "https://localhost:8080/"
        },
        "id": "1fKMF0zFRaSD",
        "outputId": "8c12bbb3-0d9b-4a04-b07a-9de8762e5266"
      },
      "execution_count": 33,
      "outputs": [
        {
          "output_type": "stream",
          "name": "stdout",
          "text": [
            "(1599, 12)\n"
          ]
        }
      ]
    },
    {
      "cell_type": "markdown",
      "source": [
        "##Split The dataset in Train and Test and then drop the last column\n"
      ],
      "metadata": {
        "id": "TsAPFTFnzBSl"
      }
    },
    {
      "cell_type": "code",
      "source": [
        "#Adding one column to the original matrix\n",
        "one_columns = np.ones((Aall.shape[0], 1))\n",
        "\n",
        "#Concatenate one_columns\n",
        "AallModified = np.concatenate((one_columns, Aall), axis=1)"
      ],
      "metadata": {
        "id": "VW2IPuKoWzK8"
      },
      "execution_count": 34,
      "outputs": []
    },
    {
      "cell_type": "code",
      "source": [
        "Training = AallModified[:1500, :]\n",
        "Testing = AallModified[1500:, :]"
      ],
      "metadata": {
        "id": "jI41g-v2XBuB"
      },
      "execution_count": 35,
      "outputs": []
    },
    {
      "cell_type": "code",
      "source": [
        "X_train = Training[:, :-1]\n",
        "y_train = Training[:, -1]"
      ],
      "metadata": {
        "id": "c0jb2CkWjRkK"
      },
      "execution_count": 36,
      "outputs": []
    },
    {
      "cell_type": "code",
      "source": [
        "X_test = Testing[:, :-1]\n",
        "y_test = Testing[:, -1]"
      ],
      "metadata": {
        "id": "yjty0X4Jjqdv"
      },
      "execution_count": 37,
      "outputs": []
    },
    {
      "cell_type": "markdown",
      "source": [
        "##Normal Equation (A^T A)a = A^T b"
      ],
      "metadata": {
        "id": "6x0qeETWjJYp"
      }
    },
    {
      "cell_type": "code",
      "source": [
        "# (A^T A)a = A^T b\n",
        "def Normaleq():\n",
        "\n",
        "  M = np.dot(X_train.T,X_train)\n",
        "  tn =np.dot(X_train.T,y_train)\n",
        "  a = np.linalg.solve(M,tn)\n",
        "  return M, tn, a"
      ],
      "metadata": {
        "id": "M2vv_0Ug5tav"
      },
      "execution_count": 38,
      "outputs": []
    },
    {
      "cell_type": "code",
      "source": [
        "M, tn, a = Normaleq()"
      ],
      "metadata": {
        "id": "JoOdZci-PxUL"
      },
      "execution_count": 39,
      "outputs": []
    },
    {
      "cell_type": "code",
      "source": [
        "y_pred = np.dot(X_test, a)"
      ],
      "metadata": {
        "id": "84lrNqajjlnC"
      },
      "execution_count": 40,
      "outputs": []
    },
    {
      "cell_type": "markdown",
      "source": [
        "##QR"
      ],
      "metadata": {
        "id": "EUEPLnQemqiY"
      }
    },
    {
      "cell_type": "code",
      "source": [
        "from scipy.linalg import qr, svd"
      ],
      "metadata": {
        "id": "Hk1t58khE90c"
      },
      "execution_count": 41,
      "outputs": []
    },
    {
      "cell_type": "code",
      "source": [
        "#factorization in QR form of X_train\n",
        "def Qrfact():\n",
        "  Q, R = qr(X_train, mode=\"economic\")\n",
        "  x = np.linalg.solve(R, Q.T @ y_train)\n",
        "  y_pred_qr = np.dot(X_test,x)\n",
        "  return Q,x, R, y_pred_qr"
      ],
      "metadata": {
        "id": "dwOWkElgj3h1"
      },
      "execution_count": 58,
      "outputs": []
    },
    {
      "cell_type": "code",
      "source": [
        "Q,coeff_qr,R, y_pred_qr = Qrfact()"
      ],
      "metadata": {
        "id": "nvHbFBnhmyx5"
      },
      "execution_count": 43,
      "outputs": []
    },
    {
      "cell_type": "markdown",
      "source": [
        "##QR with Pivot"
      ],
      "metadata": {
        "id": "DV83OKtZmMtW"
      }
    },
    {
      "cell_type": "code",
      "source": [
        "def QrPiv():\n",
        "  Q_piv, R_piv, P_piv = qr(X_train, mode=\"economic\", pivoting=True)\n",
        "  x = np.linalg.solve(R, Q_piv.T @ y_train)\n",
        "  y_pred_qr_pivoting = np.dot(X_test, x)\n",
        "  return Q_piv, x, R_piv, y_pred_qr_pivoting"
      ],
      "metadata": {
        "id": "ykKrJSupFd0a"
      },
      "execution_count": 44,
      "outputs": []
    },
    {
      "cell_type": "code",
      "source": [
        "Q_piv,coeff_qr_pivoting, R_piv, y_pred_qr_pivoting = QrPiv()"
      ],
      "metadata": {
        "id": "fDMLU_LbGdz9"
      },
      "execution_count": 45,
      "outputs": []
    },
    {
      "cell_type": "markdown",
      "source": [
        "##SVD"
      ],
      "metadata": {
        "id": "tJoMclD2mT45"
      }
    },
    {
      "cell_type": "code",
      "source": [
        "def SVD():\n",
        "  U, s, Vt = svd(X_train, full_matrices=False)\n",
        "\n",
        "  components = 7 # Choosing of 7 principal component\n",
        "\n",
        "  #Truncate of the 3 matrix to take the 7 principal components\n",
        "  U_truncated = U[:, :components]\n",
        "  s_truncated = s[:components]\n",
        "  Vt_truncated = Vt[:components, :]\n",
        "\n",
        "\n",
        "  #Create zero matrix with the shape of principal components\n",
        "  S_inverse = np.zeros((U_truncated.shape[1], Vt_truncated.shape[0]))\n",
        "  #Add principal components to main diagonal and then do the inverse\n",
        "  S_inverse[:components, :components] = np.linalg.inv(np.diag(s_truncated))\n",
        "\n",
        "  #V * Sigma * U ^T\n",
        "  svd_pseudo_inverse = np.dot(Vt_truncated.T, S_inverse)@ U_truncated.T\n",
        "\n",
        "\n",
        "  #x = V * Sigma * U^T * b (observed value) in order to obtain x\n",
        "  x = np.dot(svd_pseudo_inverse, y_train)\n",
        "  y_pred_svdT = np.dot(X_test, x)\n",
        "\n",
        "\n",
        "  return svd_pseudo_inverse, y_pred_svdT, x\n"
      ],
      "metadata": {
        "id": "_y-Y183VQvcw"
      },
      "execution_count": 46,
      "outputs": []
    },
    {
      "cell_type": "code",
      "source": [
        "svd_pseudo_inverse, y_pred_svdT, coeff_svd = SVD()"
      ],
      "metadata": {
        "id": "RS0TeK1_m0yn"
      },
      "execution_count": 47,
      "outputs": []
    },
    {
      "cell_type": "code",
      "source": [
        "rango = np.linalg.matrix_rank(X_train)\n",
        "print(\"Rango della matrice:\", rango)"
      ],
      "metadata": {
        "colab": {
          "base_uri": "https://localhost:8080/"
        },
        "id": "t4K2W94QP6ZJ",
        "outputId": "8a95f220-989f-4e6d-a906-58e34374f6a2"
      },
      "execution_count": 48,
      "outputs": [
        {
          "output_type": "stream",
          "name": "stdout",
          "text": [
            "Rango della matrice: 12\n"
          ]
        }
      ]
    },
    {
      "cell_type": "markdown",
      "source": [
        "##Lapack Driver"
      ],
      "metadata": {
        "id": "JUBoZPQMncs-"
      }
    },
    {
      "cell_type": "code",
      "source": [
        "import scipy as sp\n",
        "import scipy.linalg as spla\n",
        "\n",
        "#Lapack Driver Gelss\n",
        "def Lapack():\n",
        "  betaGelss, residualS, rankS, svS = spla.lstsq(X_train , y_train,lapack_driver='gelss')\n",
        "  print ( 'beta:')\n",
        "  print(betaGelss)\n",
        "  print ('residuals:', residualS)\n",
        "  print ('rank:', rankS)\n",
        "  print ('singular values:', svS)\n",
        "  y_pred_lstsq_gelss = np.dot(X_test, betaGelss)\n",
        "  return y_pred_lstsq_gelss"
      ],
      "metadata": {
        "id": "4VyesH9qiUOJ"
      },
      "execution_count": 49,
      "outputs": []
    },
    {
      "cell_type": "code",
      "source": [
        "y_pred_lstsq_gelss = Lapack()"
      ],
      "metadata": {
        "colab": {
          "base_uri": "https://localhost:8080/"
        },
        "id": "1DFPKpfd724x",
        "outputId": "7ae8efd9-a821-4d06-8a40-fee2539785dd"
      },
      "execution_count": 50,
      "outputs": [
        {
          "output_type": "stream",
          "name": "stdout",
          "text": [
            "beta:\n",
            "[ 2.22330327e+01  2.68702621e-02 -1.12838019e+00 -2.06141685e-01\n",
            "  1.22000584e-02 -1.77718503e+00  4.29357454e-03 -3.18953315e-03\n",
            " -1.81795124e+01 -3.98142390e-01  8.92474793e-01  2.77147239e-01]\n",
            "residuals: 632.5384879681217\n",
            "rank: 12\n",
            "singular values: [2.36107780e+03 3.64036634e+02 2.54855087e+02 6.01279434e+01\n",
            " 5.15230420e+01 1.37816669e+01 7.36918433e+00 5.86061394e+00\n",
            " 3.94250290e+00 1.70207562e+00 1.25479367e+00 2.08555550e-02]\n"
          ]
        }
      ]
    },
    {
      "cell_type": "code",
      "source": [
        "#Lapack Driver Gelsd\n",
        "betaD, residualsD, rankD, svD = spla.lstsq(X_train , y_train,lapack_driver='gelsd')\n",
        "print ( 'beta:')\n",
        "print(betaD)\n",
        "print ('residuals:', residualsD)\n",
        "print ('rank:', rankD)\n",
        "print ('singular values:', svD)\n",
        "y_pred_lstsq_gelsD = np.dot(X_test, betaD)"
      ],
      "metadata": {
        "colab": {
          "base_uri": "https://localhost:8080/"
        },
        "id": "pB-wRybzwbFK",
        "outputId": "e1706212-c61e-4cf8-9d82-89879ab8b4bf"
      },
      "execution_count": 51,
      "outputs": [
        {
          "output_type": "stream",
          "name": "stdout",
          "text": [
            "beta:\n",
            "[ 2.22330327e+01  2.68702621e-02 -1.12838019e+00 -2.06141685e-01\n",
            "  1.22000584e-02 -1.77718503e+00  4.29357454e-03 -3.18953315e-03\n",
            " -1.81795124e+01 -3.98142390e-01  8.92474793e-01  2.77147239e-01]\n",
            "residuals: 632.5384879681217\n",
            "rank: 12\n",
            "singular values: [2.36107780e+03 3.64036634e+02 2.54855087e+02 6.01279434e+01\n",
            " 5.15230420e+01 1.37816669e+01 7.36918433e+00 5.86061394e+00\n",
            " 3.94250290e+00 1.70207562e+00 1.25479367e+00 2.08555550e-02]\n"
          ]
        }
      ]
    },
    {
      "cell_type": "code",
      "source": [
        "#Lapack Driver Gelsy\n",
        "betaY, residualsY, rankY, svY = spla.lstsq(X_train , y_train,lapack_driver='gelsy')\n",
        "print ( 'beta:')\n",
        "print(betaY)\n",
        "print ('residuals:', residualsY)\n",
        "print ('rank:', rankY)\n",
        "print ('singular values:', svY)\n",
        "y_pred_lstsq_gelsY = np.dot(X_test, betaY)"
      ],
      "metadata": {
        "colab": {
          "base_uri": "https://localhost:8080/"
        },
        "id": "Oa-05ootw0Te",
        "outputId": "492f3acd-16bc-4644-efbf-09ea58f8ddaf"
      },
      "execution_count": 52,
      "outputs": [
        {
          "output_type": "stream",
          "name": "stdout",
          "text": [
            "beta:\n",
            "[ 2.22330327e+01  2.68702621e-02 -1.12838019e+00 -2.06141685e-01\n",
            "  1.22000584e-02 -1.77718503e+00  4.29357454e-03 -3.18953315e-03\n",
            " -1.81795124e+01 -3.98142390e-01  8.92474793e-01  2.77147239e-01]\n",
            "residuals: []\n",
            "rank: 12\n",
            "singular values: None\n"
          ]
        }
      ]
    },
    {
      "cell_type": "markdown",
      "source": [
        "##Accuracy"
      ],
      "metadata": {
        "id": "PVE18ZyIwxty"
      }
    },
    {
      "cell_type": "code",
      "source": [
        "y_testRefactor = y_test.copy()"
      ],
      "metadata": {
        "id": "Xg9fqYBEly4g"
      },
      "execution_count": 53,
      "outputs": []
    },
    {
      "cell_type": "code",
      "source": [
        "def split_class(test):\n",
        "  for i, value in enumerate(test):\n",
        "    if test[i] > 5.5:\n",
        "      test[i] = 1\n",
        "    else:\n",
        "      test[i] = 0\n",
        "split_class(y_testRefactor)\n",
        "split_class(y_pred_lstsq_gelss)\n",
        "split_class(y_pred_lstsq_gelsD)\n",
        "split_class(y_pred_lstsq_gelsY)\n",
        "split_class(y_pred_qr)\n",
        "split_class(y_pred_qr_pivoting)\n",
        "split_class(y_pred)\n",
        "split_class(y_pred_svdT)"
      ],
      "metadata": {
        "id": "Rco_9c6KfeL8"
      },
      "execution_count": 54,
      "outputs": []
    },
    {
      "cell_type": "code",
      "source": [
        "def accuracy(actual, pred):\n",
        "  true_positive = 0\n",
        "  false_negative = 0\n",
        "  true_negative = 0\n",
        "  false_positive = 0\n",
        "\n",
        "  if len(actual) == len(pred):\n",
        "    for i in range(len(actual)):\n",
        "        if actual[i] == 1 and pred[i] == 1:\n",
        "          true_positive += 1\n",
        "        elif actual[i] == 1 and pred[i] == 0:\n",
        "          false_negative += 1\n",
        "        elif actual[i] == 0 and pred[i] == 0:\n",
        "          true_negative += 1\n",
        "        elif actual[i] == 0 and pred[i] == 1:\n",
        "          false_positive += 1\n",
        "\n",
        "    accuracy = (true_positive + true_negative) / len(actual)\n",
        "  return accuracy, true_positive, false_negative, true_negative, false_positive"
      ],
      "metadata": {
        "id": "QbW0G_WEha0x"
      },
      "execution_count": 55,
      "outputs": []
    },
    {
      "cell_type": "code",
      "source": [
        "accuracyS, true_positiveS, false_negativeS, true_negativeS, false_positiveS = accuracy(y_testRefactor, y_pred_lstsq_gelss)\n",
        "accuracyN, true_positiveN, false_negativeN, true_negativeN, false_positiveN = accuracy(y_testRefactor, y_pred)\n",
        "accuracyQR, true_positiveQR, false_negativeQR, true_negativeQR, false_positiveQR = accuracy(y_testRefactor, y_pred_qr)\n",
        "accuracyQRP, true_positiveQRP, false_negativeQRP, true_negativeQRP, false_positiveQRP = accuracy(y_testRefactor, y_pred_qr_pivoting)\n",
        "accuracyY, true_positiveY, false_negativeY, true_negativeY, false_positiveY = accuracy(y_testRefactor, y_pred_lstsq_gelsY)\n",
        "accuracyD, true_positiveD, false_negativeD, true_negativeD, false_positiveD = accuracy(y_testRefactor, y_pred_lstsq_gelsD)\n",
        "accuracySVD, true_positiveSVD, false_negativeSVD, true_negativeSVD, false_positiveSVD = accuracy(y_testRefactor, y_pred_svdT)"
      ],
      "metadata": {
        "id": "iUgBZSg7iOJV"
      },
      "execution_count": 56,
      "outputs": []
    },
    {
      "cell_type": "code",
      "source": [
        "print(\"Accuracy Normal Equations: \", accuracyN)\n",
        "print(\"Accuracy QR Factorization: \", accuracyQR)\n",
        "print(\"Accuracy QR with Pivot: \", accuracyQRP)\n",
        "print(\"Accuracy SVD: \", accuracySVD)\n",
        "print(\"Accuracy Lapack gels S: \", accuracyS)\n",
        "print(\"Accuracy Lapack gels D: \", accuracyD)\n",
        "print(\"Accuracy Lapack gels Y: \", accuracyY)"
      ],
      "metadata": {
        "colab": {
          "base_uri": "https://localhost:8080/"
        },
        "id": "QFiBxos5uUdE",
        "outputId": "d6b8c5e9-3fef-4870-e6c5-6f2b20801ffd"
      },
      "execution_count": 57,
      "outputs": [
        {
          "output_type": "stream",
          "name": "stdout",
          "text": [
            "Accuracy Normal Equations:  0.7373737373737373\n",
            "Accuracy QR Factorization:  0.7373737373737373\n",
            "Accuracy QR with Pivot:  0.35353535353535354\n",
            "Accuracy SVD:  0.7373737373737373\n",
            "Accuracy Lapack gels S:  0.7373737373737373\n",
            "Accuracy Lapack gels D:  0.7373737373737373\n",
            "Accuracy Lapack gels Y:  0.7373737373737373\n"
          ]
        }
      ]
    },
    {
      "cell_type": "code",
      "source": [
        "def corr_matrix(model, tn, tp, fn, fp):\n",
        "\n",
        "  tp_matrix = [[tn, fp], [fn, tp]]\n",
        "\n",
        "  print(f\"{model}\")\n",
        "  for row in tp_matrix:\n",
        "      print(row)"
      ],
      "metadata": {
        "id": "Q915An2yuuM5"
      },
      "execution_count": 28,
      "outputs": []
    },
    {
      "cell_type": "code",
      "source": [
        "corr_matrix(\"Normal\", true_positiveN,false_negativeN, true_negativeN, false_positiveN )\n",
        "corr_matrix(\"QR\", true_positiveQR,false_negativeQR, true_negativeQR, false_positiveQR )\n",
        "corr_matrix(\"QR_pivot\", true_positiveQRP,false_negativeQRP, true_negativeQRP, false_positiveQRP )\n",
        "corr_matrix(\"SVD\", true_positiveSVD,false_negativeSVD, true_negativeSVD, false_positiveSVD)\n",
        "corr_matrix(\"GelsS\", true_positiveS,false_negativeS, true_negativeS, false_positiveS )\n",
        "corr_matrix(\"GelsD\", true_positiveD,false_negativeD, true_negativeD, false_positiveD )\n",
        "corr_matrix(\"GelsY\", true_positiveY,false_negativeY, true_negativeY, false_positiveY )"
      ],
      "metadata": {
        "colab": {
          "base_uri": "https://localhost:8080/"
        },
        "id": "TD35EqaSvaXq",
        "outputId": "325c5189-466c-4b5e-f63b-1e487ca59434"
      },
      "execution_count": 29,
      "outputs": [
        {
          "output_type": "stream",
          "name": "stdout",
          "text": [
            "Normal\n",
            "[47, 15]\n",
            "[26, 11]\n",
            "QR\n",
            "[47, 15]\n",
            "[26, 11]\n",
            "QR_pivot\n",
            "[21, 27]\n",
            "[14, 37]\n",
            "SVD\n",
            "[46, 14]\n",
            "[27, 12]\n",
            "GelsS\n",
            "[47, 15]\n",
            "[26, 11]\n",
            "GelsD\n",
            "[47, 15]\n",
            "[26, 11]\n",
            "GelsY\n",
            "[47, 15]\n",
            "[26, 11]\n"
          ]
        }
      ]
    },
    {
      "cell_type": "markdown",
      "source": [
        "##Conditioning and Computation Time of the four differents approaches"
      ],
      "metadata": {
        "id": "4U_gpWZbz6Z7"
      }
    },
    {
      "cell_type": "code",
      "source": [
        "#Normal Equations\n",
        "print(\"\\n conditioning of A \", np.linalg.cond(X_train))\n",
        "print(\"\\n conditioning of A^T A \", np.linalg.cond(M))"
      ],
      "metadata": {
        "colab": {
          "base_uri": "https://localhost:8080/"
        },
        "id": "23P87FFw0CAH",
        "outputId": "f3ac6d38-7627-4571-b7f1-220484c1998d"
      },
      "execution_count": 31,
      "outputs": [
        {
          "output_type": "stream",
          "name": "stdout",
          "text": [
            "\n",
            " conditioning of A  113210.97885071913\n",
            "\n",
            " conditioning of A^T A  12816725698.113\n"
          ]
        }
      ]
    },
    {
      "cell_type": "code",
      "source": [
        "import time\n",
        "def time_computation(method):\n",
        "  start_time = time.time()\n",
        "  method()\n",
        "  end_time = time.time()\n",
        "  execution_time = end_time - start_time\n",
        "  return execution_time"
      ],
      "metadata": {
        "id": "924gXEVA4_34"
      },
      "execution_count": 32,
      "outputs": []
    },
    {
      "cell_type": "code",
      "source": [
        "secNormal = time_computation(Normaleq)\n",
        "secQr = time_computation(Qrfact)\n",
        "secQRP = time_computation(QrPiv)\n",
        "secSVD = time_computation(SVD)\n",
        "secLapack = time_computation(Lapack)"
      ],
      "metadata": {
        "colab": {
          "base_uri": "https://localhost:8080/"
        },
        "id": "oYv9mCCI5Auy",
        "outputId": "f8acb38a-9115-49a5-e1ac-ff5589628e3c"
      },
      "execution_count": 33,
      "outputs": [
        {
          "output_type": "stream",
          "name": "stdout",
          "text": [
            "beta:\n",
            "[ 2.22330327e+01  2.68702621e-02 -1.12838019e+00 -2.06141685e-01\n",
            "  1.22000584e-02 -1.77718503e+00  4.29357454e-03 -3.18953315e-03\n",
            " -1.81795124e+01 -3.98142390e-01  8.92474793e-01  2.77147239e-01]\n",
            "residuals: 632.5384879681217\n",
            "rank: 12\n",
            "singular values: [2.36107780e+03 3.64036634e+02 2.54855087e+02 6.01279434e+01\n",
            " 5.15230420e+01 1.37816669e+01 7.36918433e+00 5.86061394e+00\n",
            " 3.94250290e+00 1.70207562e+00 1.25479367e+00 2.08555550e-02]\n"
          ]
        }
      ]
    },
    {
      "cell_type": "code",
      "source": [
        "print(\"Sec Normal: \",secNormal)\n",
        "print(\"Sec QR: \", secQr)\n",
        "print(\"Sec QRPivot: \", secQRP)\n",
        "print(\"Sec SVD: \",secSVD)\n",
        "print(\"Sec Lapack: \",secLapack)"
      ],
      "metadata": {
        "colab": {
          "base_uri": "https://localhost:8080/"
        },
        "id": "bA_n4DkK5F22",
        "outputId": "cc223482-cf43-426d-cc4c-e92042826b30"
      },
      "execution_count": 34,
      "outputs": [
        {
          "output_type": "stream",
          "name": "stdout",
          "text": [
            "Sec Normal:  0.0030214786529541016\n",
            "Sec QR:  0.011657476425170898\n",
            "Sec QRPivot:  0.0006368160247802734\n",
            "Sec SVD:  0.002246379852294922\n",
            "Sec Lapack:  0.0065305233001708984\n"
          ]
        }
      ]
    },
    {
      "cell_type": "markdown",
      "source": [
        "#Exercise 3"
      ],
      "metadata": {
        "id": "L-G5MlwW8u0L"
      }
    },
    {
      "cell_type": "markdown",
      "source": [
        "## Minimum of bivariate function\n",
        "\n",
        "Use the steepest descend method and the Newton method  to approximate  the minimum $\\displaystyle{{\\bf x}^{\\star}=\\left(\\frac{1}{3},\\frac{1}{3}\\right)^{T}}$ of the function:\n",
        "$$f({\\bf x})= x_1^2 + x_1x_2 +x_2^2 - x_1 - x_2+1.$$\n",
        "\n",
        "1. Compute the partial drivatives by hand and then write the function Grad which returns the gradient of the given $f$ evaluated at a given point ${\\bf P}$ and the function Hessian which returns the Hessian matrix of the given $f$ evaluated at a given point ${\\bf P}$."
      ],
      "metadata": {
        "id": "mn8BwLApDRK4"
      }
    },
    {
      "cell_type": "code",
      "source": [
        "def Grad (x1,x2):\n",
        "  df_x1 = 2*x1 + x2 -1\n",
        "  df_x2 = x1 + 2*x2 -1\n",
        "  return np.array([df_x1,df_x2])"
      ],
      "metadata": {
        "id": "zEgXI5Vw8xO4"
      },
      "execution_count": 35,
      "outputs": []
    },
    {
      "cell_type": "code",
      "source": [
        "def Hessian(x1, x2):\n",
        "    d2f_dx1dx1 = 2\n",
        "    d2f_dx1dx2 = 1\n",
        "    d2f_dx2dx1 = 1\n",
        "    d2f_dx2dx2 = 2\n",
        "    hessian_matrix = np.array([[d2f_dx1dx1, d2f_dx1dx2],\n",
        "                               [d2f_dx2dx1, d2f_dx2dx2]])\n",
        "    return hessian_matrix\n",
        "\n",
        "#Take P (2,3)\n",
        "x1 = 2\n",
        "x2 = 3\n",
        "\n",
        "gradient_at_point = Grad(x1, x2)\n",
        "hessian_at_point = Hessian(x1, x2)\n",
        "\n",
        "print(\"Gradient at the point:\", gradient_at_point)\n",
        "print(\"Hessian matrix at the point:\\n\", hessian_at_point)\n"
      ],
      "metadata": {
        "colab": {
          "base_uri": "https://localhost:8080/"
        },
        "id": "ynhxIs92IhAz",
        "outputId": "d62b4871-8af3-44a0-f96b-d0e5500a0173"
      },
      "execution_count": 36,
      "outputs": [
        {
          "output_type": "stream",
          "name": "stdout",
          "text": [
            "Gradient at the point: [6 7]\n",
            "Hessian matrix at the point:\n",
            " [[2 1]\n",
            " [1 2]]\n"
          ]
        }
      ]
    },
    {
      "cell_type": "markdown",
      "source": [
        "#Excercises 2"
      ],
      "metadata": {
        "id": "XQoxV9D9gG9L"
      }
    },
    {
      "cell_type": "code",
      "source": [
        "import nltk\n",
        "from nltk.tokenize import word_tokenize\n",
        "from keras.preprocessing.text import Tokenizer\n",
        "from nltk.stem import WordNetLemmatizer\n",
        "from nltk.corpus import stopwords\n",
        "nltk.download('stopwords')\n",
        "nltk.download('punkt')"
      ],
      "metadata": {
        "colab": {
          "base_uri": "https://localhost:8080/"
        },
        "id": "zVOsdIgwgJTN",
        "outputId": "c1c76034-287b-4661-f52d-1c462fd6416b"
      },
      "execution_count": 1,
      "outputs": [
        {
          "output_type": "stream",
          "name": "stderr",
          "text": [
            "[nltk_data] Downloading package stopwords to /root/nltk_data...\n",
            "[nltk_data]   Package stopwords is already up-to-date!\n",
            "[nltk_data] Downloading package punkt to /root/nltk_data...\n",
            "[nltk_data]   Package punkt is already up-to-date!\n"
          ]
        },
        {
          "output_type": "execute_result",
          "data": {
            "text/plain": [
              "True"
            ]
          },
          "metadata": {},
          "execution_count": 1
        }
      ]
    },
    {
      "cell_type": "code",
      "source": [
        "def remove_stopwords(sentence_list):\n",
        "    stop_words = set(stopwords.words('english'))\n",
        "\n",
        "    cleaned_sentences = []\n",
        "    for sentence in sentence_list:\n",
        "        words = nltk.word_tokenize(sentence)  # Tokenizza la frase in parole\n",
        "        filtered_words = [word for word in words if word.lower() not in stop_words]\n",
        "        cleaned_sentence = ' '.join(filtered_words)\n",
        "        cleaned_sentences.append(cleaned_sentence)\n",
        "\n",
        "    return cleaned_sentences"
      ],
      "metadata": {
        "id": "v9buypuagQbk"
      },
      "execution_count": 6,
      "outputs": []
    },
    {
      "cell_type": "code",
      "source": [
        "import numpy as np\n",
        "import sklearn\n",
        "import sklearn.feature_extraction\n",
        "import scipy.linalg\n",
        "from scipy.linalg import *\n",
        "import scipy.linalg as spl\n",
        "np.set_printoptions(suppress=True)\n",
        "vectorizer = sklearn.feature_extraction.text.CountVectorizer(min_df=1)\n",
        "documents = [\n",
        "'The rank of a matrix is the maximum number of linearly independent columns.',\n",
        "'The column space of a matrix A is called range of A.',\n",
        "'The inverse of an orthogonal matrix is its transpose.',\n",
        "'If A is a singular matrix then it has at least one null eigenvalue.',\n",
        "'The product of an orthogonal matrix and its traspose is the identity matrix.',\n",
        "'The rank of a matrix is the maximum number of  linearly independent rows.',\n",
        "'A set of orthogonal vectors is a linearly independent set.',\n",
        "'The spectrum of a matrix is the set of all its distinct eigenvalues.',\n",
        "'The eigenvalues of a matrix are the roots of the characteristic polynomial.',\n",
        "'The columns of an orthogonal matrix are a set of orthogonal vectors.',\n",
        "'A normed vectorial space is a space with an inner product norm.',\n",
        "'Similar matrices have the same spectrum.',\n",
        "'Matrices not similar to a diagonal matrix are called defective.',\n",
        "]\n",
        "\n",
        "documents = remove_stopwords(documents)\n",
        "\n",
        "X = vectorizer.fit_transform(documents).toarray()\n",
        "print('vectorizer.vocabulary_: {0}'.format(vectorizer.vocabulary_))\n",
        "A=X.T\n",
        "# query vectors\n",
        "query1text = ['rank of a matrix?']\n",
        "query1 = vectorizer.transform(query1text).toarray()\n",
        "query1 = query1.T\n",
        "query2text = ['spectrum']\n",
        "query2 = vectorizer.transform(query2text).toarray()\n",
        "query2 = query2.T"
      ],
      "metadata": {
        "colab": {
          "base_uri": "https://localhost:8080/"
        },
        "id": "AP-gyG5OgVWe",
        "outputId": "39267d6d-51bd-4f2a-d241-b383056d432c"
      },
      "execution_count": 8,
      "outputs": [
        {
          "output_type": "stream",
          "name": "stdout",
          "text": [
            "vectorizer.vocabulary_: {'rank': 27, 'matrix': 16, 'maximum': 17, 'number': 21, 'linearly': 14, 'independent': 10, 'columns': 3, 'column': 2, 'space': 33, 'called': 0, 'range': 26, 'inverse': 12, 'orthogonal': 23, 'transpose': 35, 'singular': 32, 'least': 13, 'one': 22, 'null': 20, 'eigenvalue': 7, 'product': 25, 'traspose': 36, 'identity': 9, 'rows': 29, 'set': 30, 'vectors': 38, 'spectrum': 34, 'distinct': 6, 'eigenvalues': 8, 'roots': 28, 'characteristic': 1, 'polynomial': 24, 'normed': 19, 'vectorial': 37, 'inner': 11, 'norm': 18, 'similar': 31, 'matrices': 15, 'diagonal': 5, 'defective': 4}\n"
          ]
        }
      ]
    },
    {
      "cell_type": "code",
      "source": [
        "cosAM = []\n",
        "for i in range(13):\n",
        "  cosA = np.dot(A.T[i, :], query1)/np.dot(np.linalg.norm(A,2),np.linalg.norm(query1,2))\n",
        "  cosAM.append(cosA)\n",
        "\n",
        "cosAM = np.array(cosAM)\n",
        "maxIndex = np.where(cosAM == np.max(cosAM))[0] #trovo gli indici nell'array con valore massimo\n",
        "\n",
        "print(\"I documenti con coseno di similarità maggiore tra A e query1 sono: \\n\")\n",
        "for i in maxIndex:\n",
        "  print(documents[i])"
      ],
      "metadata": {
        "colab": {
          "base_uri": "https://localhost:8080/"
        },
        "id": "d5klIaQNmZjk",
        "outputId": "83421cfd-5817-47c2-ae75-e2676b9a8937"
      },
      "execution_count": 9,
      "outputs": [
        {
          "output_type": "stream",
          "name": "stdout",
          "text": [
            "I documenti con coseno di similarità maggiore tra A e query1 sono: \n",
            "\n",
            "rank matrix maximum number linearly independent columns .\n",
            "product orthogonal matrix traspose identity matrix .\n",
            "rank matrix maximum number linearly independent rows .\n"
          ]
        }
      ]
    },
    {
      "cell_type": "code",
      "source": [
        "cosAM = []\n",
        "for i in range(13):\n",
        "  cosA = np.dot(A.T[i, :], query2)/np.dot(np.linalg.norm(A,2),np.linalg.norm(query1,2))\n",
        "  cosAM.append(cosA)\n",
        "\n",
        "cosAM = np.array(cosAM)\n",
        "maxIndex = np.where(cosAM == np.max(cosAM))[0]\n",
        "\n",
        "print(\"I documenti con coseno di similarità maggiore tra A e query1 sono: \\n\")\n",
        "for i in maxIndex:\n",
        "  print(documents[i])"
      ],
      "metadata": {
        "colab": {
          "base_uri": "https://localhost:8080/"
        },
        "id": "r1S1H7Rts3q7",
        "outputId": "acfa0ec1-2825-4c04-b86b-bcc978d4f8e8"
      },
      "execution_count": 10,
      "outputs": [
        {
          "output_type": "stream",
          "name": "stdout",
          "text": [
            "I documenti con coseno di similarità maggiore tra A e query1 sono: \n",
            "\n",
            "spectrum matrix set distinct eigenvalues .\n",
            "Similar matrices spectrum .\n"
          ]
        }
      ]
    },
    {
      "cell_type": "code",
      "source": [
        "#QR factorization with pivot\n",
        "Q,R,P=spl.qr(A,mode='economic',pivoting=True)\n",
        "AReconstructed = np.dot(Q,R)\n"
      ],
      "metadata": {
        "id": "jf-dN9GegsdM"
      },
      "execution_count": 11,
      "outputs": []
    },
    {
      "cell_type": "code",
      "source": [
        "cosQRq1 = np.dot(R.T,np.dot(Q.T,query1))/np.dot(np.linalg.norm(R,2),np.linalg.norm(np.dot(Q.T,query1),2))\n",
        "cosQRq2 = np.dot(R.T,np.dot(Q.T,query2))/np.dot(np.linalg.norm(R,2),np.linalg.norm(np.dot(Q.T,query2),2))"
      ],
      "metadata": {
        "id": "iEhJsYbYtlSd"
      },
      "execution_count": 14,
      "outputs": []
    },
    {
      "cell_type": "code",
      "source": [
        "for i in range(13):\n",
        "    print(f\"Similarità con QR e query1 {i + 1}: QR: {cosQRq1[i]}\")"
      ],
      "metadata": {
        "colab": {
          "base_uri": "https://localhost:8080/"
        },
        "id": "c2SsFJnaAhAD",
        "outputId": "d1854e9a-2cdb-43c8-91fd-b8101416a500"
      },
      "execution_count": 15,
      "outputs": [
        {
          "output_type": "stream",
          "name": "stdout",
          "text": [
            "Similarità con QR e query1 1: QR: [0.]\n",
            "Similarità con QR e query1 2: QR: [0.]\n",
            "Similarità con QR e query1 3: QR: [0.40313714]\n",
            "Similarità con QR e query1 4: QR: [0.40313714]\n",
            "Similarità con QR e query1 5: QR: [0.20156857]\n",
            "Similarità con QR e query1 6: QR: [0.20156857]\n",
            "Similarità con QR e query1 7: QR: [0.20156857]\n",
            "Similarità con QR e query1 8: QR: [0.20156857]\n",
            "Similarità con QR e query1 9: QR: [0.20156857]\n",
            "Similarità con QR e query1 10: QR: [0.20156857]\n",
            "Similarità con QR e query1 11: QR: [0.20156857]\n",
            "Similarità con QR e query1 12: QR: [0.]\n",
            "Similarità con QR e query1 13: QR: [0.40313714]\n"
          ]
        }
      ]
    },
    {
      "cell_type": "code",
      "source": [
        "for i in range(13):\n",
        "    print(f\"Similarità con QR e query2 {i + 1}: QR: {cosQRq2[i]}\")"
      ],
      "metadata": {
        "colab": {
          "base_uri": "https://localhost:8080/"
        },
        "id": "j0ca_bCUAlL_",
        "outputId": "dede5e8a-0768-4cd3-a7de-5151e040bc39"
      },
      "execution_count": 16,
      "outputs": [
        {
          "output_type": "stream",
          "name": "stdout",
          "text": [
            "Similarità con QR e query2 1: QR: [0.]\n",
            "Similarità con QR e query2 2: QR: [0.]\n",
            "Similarità con QR e query2 3: QR: [0.]\n",
            "Similarità con QR e query2 4: QR: [0.]\n",
            "Similarità con QR e query2 5: QR: [0.]\n",
            "Similarità con QR e query2 6: QR: [0.]\n",
            "Similarità con QR e query2 7: QR: [0.]\n",
            "Similarità con QR e query2 8: QR: [0.]\n",
            "Similarità con QR e query2 9: QR: [0.27848985]\n",
            "Similarità con QR e query2 10: QR: [0.]\n",
            "Similarità con QR e query2 11: QR: [0.]\n",
            "Similarità con QR e query2 12: QR: [0.27848985]\n",
            "Similarità con QR e query2 13: QR: [-0.]\n"
          ]
        }
      ]
    },
    {
      "cell_type": "code",
      "source": [
        "#SVD decomposition\n",
        "U,s,V=scipy.linalg.svd(A, full_matrices = False)"
      ],
      "metadata": {
        "id": "K2fHqdBXgX5V"
      },
      "execution_count": 17,
      "outputs": []
    },
    {
      "cell_type": "code",
      "source": [
        "import matplotlib.pyplot as plt\n",
        "\n",
        "plt.plot(range(1, len(s) + 1), s, marker='.')\n",
        "plt.title(\"Scree Plot\")\n",
        "plt.xlabel(\"Singular Value Index\")\n",
        "plt.ylabel(\"Singular Value\")\n",
        "plt.show()"
      ],
      "metadata": {
        "colab": {
          "base_uri": "https://localhost:8080/",
          "height": 472
        },
        "id": "nRL_yMX3ga_8",
        "outputId": "144f49b7-cdae-4dff-d42d-07f504e6b064"
      },
      "execution_count": 18,
      "outputs": [
        {
          "output_type": "display_data",
          "data": {
            "text/plain": [
              "<Figure size 640x480 with 1 Axes>"
            ],
            "image/png": "[encoded data removed]"
          },
          "metadata": {}
        }
      ]
    },
    {
      "cell_type": "code",
      "source": [
        "rango = np.linalg.matrix_rank(A)\n",
        "print(\"Rango della matrice:\", rango)"
      ],
      "metadata": {
        "colab": {
          "base_uri": "https://localhost:8080/"
        },
        "id": "JpuG8tZS-kMj",
        "outputId": "a0e6e318-e688-4105-903a-5ca9b23733ba"
      },
      "execution_count": 19,
      "outputs": [
        {
          "output_type": "stream",
          "name": "stdout",
          "text": [
            "Rango della matrice: 13\n"
          ]
        }
      ]
    },
    {
      "cell_type": "code",
      "source": [
        "#the rank is 13, so we choose the 4th singular values in order to reduce the matrix\n",
        "r = 4\n",
        "Ur = U[:, :r]\n",
        "Sr = np.diag(s[:r])\n",
        "Vtr = V[:r, :]\n",
        "reconstructed_matrix = np.dot(np.dot(Ur, Sr), Vtr) #Reconstructed matrix"
      ],
      "metadata": {
        "id": "wRTcGoYOgccQ"
      },
      "execution_count": 20,
      "outputs": []
    },
    {
      "cell_type": "code",
      "source": [
        "cosSVDq1 = np.dot(np.dot(Sr, Vtr).T,np.dot(Ur.T,query1))/np.dot(np.linalg.norm(np.dot(Sr, Vtr),2),np.linalg.norm(query1,2))\n",
        "cosSVDq2 = np.dot(np.dot(Sr, Vtr).T,np.dot(Ur.T,query2))/np.dot(np.linalg.norm(np.dot(Sr, Vtr),2),np.linalg.norm(query2,2))"
      ],
      "metadata": {
        "id": "OHTR3nZM-84s"
      },
      "execution_count": 21,
      "outputs": []
    },
    {
      "cell_type": "code",
      "source": [
        "for i in range(13):\n",
        "    print(f\"Similarità con SVD e query1 {i + 1}: SVD: {cosSVDq1[i]}\")"
      ],
      "metadata": {
        "colab": {
          "base_uri": "https://localhost:8080/"
        },
        "id": "c5RSIt9r_W47",
        "outputId": "c8d0b5c0-ff33-4c30-98bc-15d260f28889"
      },
      "execution_count": 22,
      "outputs": [
        {
          "output_type": "stream",
          "name": "stdout",
          "text": [
            "Similarità con SVD e query1 1: SVD: [0.29034592]\n",
            "Similarità con SVD e query1 2: SVD: [0.15460592]\n",
            "Similarità con SVD e query1 3: SVD: [0.13288465]\n",
            "Similarità con SVD e query1 4: SVD: [0.16605544]\n",
            "Similarità con SVD e query1 5: SVD: [0.27092761]\n",
            "Similarità con SVD e query1 6: SVD: [0.29213568]\n",
            "Similarità con SVD e query1 7: SVD: [0.04297613]\n",
            "Similarità con SVD e query1 8: SVD: [0.13306436]\n",
            "Similarità con SVD e query1 9: SVD: [0.15644449]\n",
            "Similarità con SVD e query1 10: SVD: [0.13273673]\n",
            "Similarità con SVD e query1 11: SVD: [0.0043067]\n",
            "Similarità con SVD e query1 12: SVD: [0.03987037]\n",
            "Similarità con SVD e query1 13: SVD: [0.19086587]\n"
          ]
        }
      ]
    },
    {
      "cell_type": "code",
      "source": [
        "for i in range(13):\n",
        "    print(f\"Similarità con SVD e query2 {i + 1}: SVD: {cosSVDq2[i]}\")"
      ],
      "metadata": {
        "colab": {
          "base_uri": "https://localhost:8080/"
        },
        "id": "drW-qgluA6DW",
        "outputId": "3635feff-626d-426d-83be-315f85739f15"
      },
      "execution_count": 23,
      "outputs": [
        {
          "output_type": "stream",
          "name": "stdout",
          "text": [
            "Similarità con SVD e query2 1: SVD: [-0.00347886]\n",
            "Similarità con SVD e query2 2: SVD: [0.01496223]\n",
            "Similarità con SVD e query2 3: SVD: [0.02559102]\n",
            "Similarità con SVD e query2 4: SVD: [0.02563732]\n",
            "Similarità con SVD e query2 5: SVD: [0.04313035]\n",
            "Similarità con SVD e query2 6: SVD: [-0.00515728]\n",
            "Similarità con SVD e query2 7: SVD: [0.00011426]\n",
            "Similarità con SVD e query2 8: SVD: [0.02401589]\n",
            "Similarità con SVD e query2 9: SVD: [0.02479731]\n",
            "Similarità con SVD e query2 10: SVD: [0.03004166]\n",
            "Similarità con SVD e query2 11: SVD: [-0.02207199]\n",
            "Similarità con SVD e query2 12: SVD: [0.0095002]\n",
            "Similarità con SVD e query2 13: SVD: [0.03053279]\n"
          ]
        }
      ]
    }
  ]
}